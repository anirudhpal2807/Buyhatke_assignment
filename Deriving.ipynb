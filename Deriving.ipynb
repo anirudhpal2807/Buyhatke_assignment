{
  "cells": [
    {
      "cell_type": "markdown",
      "metadata": {
        "id": "rO9Q8R5d5Y2T"
      },
      "source": [
        "### Methodology\n",
        "\n",
        "We infer demographic attributes (age band, gender) from behavioral signals observed in transactions. In the absence of ground-truth demographics, we treat purchase behavior as a proxy and frame the problem as probabilistic evidence aggregation over user events.\n",
        "\n",
        "- **Assumptions**\n",
        "  - Behavioral patterns (what, how often, when, and how much) correlate with demographics at population level.\n",
        "  - Category- and brand-level priors approximate demographic propensity and can be refined as labeled data becomes available.\n",
        "  - Signals are weak individually but informative in aggregate across a user’s history.\n",
        "\n",
        "- **Scope**\n",
        "  - Outputs: age buckets (`<25`, `25–40`, `40+`) and gender (`male`, `female`) with associated probabilities and a confidence score.\n",
        "  - Inputs: product category/brand, order value, purchase frequency/recency, time-of-day/day-of-week."
      ]
    },
    {
      "cell_type": "markdown",
      "metadata": {
        "id": "PUqtOdnA5h1Y"
      },
      "source": [
        "Step 1: Identify Predictive Signals\n",
        "\n",
        "- **Category and Brand Affinity**\n",
        "  - Kids/baby categories → higher likelihood of `25–40`.\n",
        "  - Beauty/apparel → higher likelihood of female; peak in `25–40`.\n",
        "  - Consumer electronics → skew male; `<40` overall.\n",
        "  - Health/grocery → relatively stronger `40+` signal.\n",
        "\n",
        "- **Spend and Frequency Patterns**\n",
        "  - Higher AOV and lower frequency → older/wealthier skew.\n",
        "  - Lower AOV and higher frequency → younger skew.\n",
        "\n",
        "- **Temporal Behavior**\n",
        "  - Late-night/weekend skew → `<25` uplift.\n",
        "  - Daytime/weekday shopping → family/working-age skew.\n",
        "\n",
        "These signals are treated as weak learners that contribute weighted evidence rather than hard rules.\n"
      ]
    },
    {
      "cell_type": "markdown",
      "metadata": {
        "id": "GPGibkZ35m8a"
      },
      "source": [
        "Step 2: Define Prior Weights (Evidence Model)\n",
        "\n",
        "For each category/brand, we maintain priors over demographics that reflect propensity at population level. Examples:\n",
        "\n",
        "- Electronics → Age: {`<25`: 0.40, `25–40`: 0.45, `40+`: 0.15}; Gender: {`male`: 0.60, `female`: 0.40}\n",
        "- Beauty → Age: {`<25`: 0.35, `25–40`: 0.45, `40+`: 0.20}; Gender: {`male`: 0.20, `female`: 0.80}\n",
        "\n",
        "These priors are initialized using domain knowledge/market research and are updated as labeled data arrives (e.g., via Bayesian updating or calibration). Unmapped categories back off to neutral distributions with smoothing to avoid overconfidence.\n"
      ]
    },
    {
      "cell_type": "markdown",
      "metadata": {
        "id": "uuu8Or465vuX"
      },
      "source": [
        "Step 3: Probabilistic Scoring and Aggregation\n",
        "\n",
        "For each user:\n",
        "1) Collect all transactions and map each event to demographic priors (category/brand/time-of-day/spend band).\n",
        "2) Convert priors to additive evidence (e.g., log-probabilities or weighted counts) and sum across events.\n",
        "3) Normalize to obtain posterior probabilities per class. Apply smoothing to prevent dominance by sparse signals.\n",
        "4) Output the argmax class and a confidence score (e.g., 1 − entropy or margin between top-1 and top-2).\n",
        "\n",
        "Interpretation: a user with sustained beauty/apparel purchases and moderate AOV will have uplift for `female, 25–40`, while occasional grocery purchases add mild `40+` weight without overriding consistent signals."
      ]
    },
    {
      "cell_type": "markdown",
      "metadata": {
        "id": "tHwtcD755zc3"
      },
      "source": [
        "Step 4: Validation and Calibration Plan\n",
        "\n",
        "When ground truth becomes available:\n",
        "- **Classification quality**: Precision/Recall/F1 (gender), per-class recall and macro metrics (age buckets), confusion matrix.\n",
        "- **Calibration**: Reliability curves, Expected Calibration Error, Brier score; temperature/Platt or isotonic calibration if needed.\n",
        "- **Temporal robustness**: Time-based cross-validation to detect drift.\n",
        "- **Ablations**: Contribution of each signal family (category, spend, temporal).\n",
        "- **Business lift**: Uplift in campaign metrics vs. random/heuristic baselines.\n",
        "- **Fairness**: Bias/parity checks where labels permit, with documented mitigations."
      ]
    },
    {
      "cell_type": "markdown",
      "metadata": {
        "id": "jhp3JRBj55QQ"
      },
      "source": [
        "Step 5: Business Impact and Responsible AI\n",
        "\n",
        "- **Personalization**: Improve targeting (e.g., beauty → female `25–40`, electronics → male `<40`) while measuring incremental lift.\n",
        "- **Segmentation and Growth**: Identify under-served cohorts for acquisition/retention strategies.\n",
        "- **Operationalization**: Serve scores to downstream systems with versioned priors and monitoring for drift.\n",
        "- **Governance**: Document assumptions, maintain auditable mappings, and implement change controls for priors.\n",
        "- **Privacy & Ethics**: Use only consented data, avoid sensitive inferences where prohibited, and monitor for stereotype reinforcement."
      ]
    },
    {
      "cell_type": "code",
      "execution_count": null,
      "metadata": {
        "id": "WYzg3fn459E1"
      },
      "outputs": [],
      "source": [
        "import pandas as pd\n",
        "\n",
        "# Load transactional dataset\n",
        "df = pd.read_csv(\"transactions.csv\") //Assuming the file is named transactions.csv\n",
        "print(\"Total transactions:\", len(df))\n",
        "df.head()\n"
      ]
    },
    {
      "cell_type": "code",
      "execution_count": null,
      "metadata": {
        "id": "rGDCWLGU6Tj1"
      },
      "outputs": [],
      "source": [
        "# Age weights per category\n",
        "category_age = {\n",
        "    \"kids\": {\"<25\":0.1, \"25-40\":0.6, \"40+\":0.3},\n",
        "    \"electronics\": {\"<25\":0.4, \"25-40\":0.45, \"40+\":0.15},\n",
        "    \"beauty\": {\"<25\":0.35, \"25-40\":0.45, \"40+\":0.2},\n",
        "    \"apparel\": {\"<25\":0.3, \"25-40\":0.45, \"40+\":0.25},\n",
        "    \"health\": {\"<25\":0.2, \"25-40\":0.35, \"40+\":0.45}\n",
        "}\n",
        "\n",
        "# Gender weights per category\n",
        "category_gender = {\n",
        "    \"electronics\": {\"male\":0.6, \"female\":0.4},\n",
        "    \"beauty\": {\"male\":0.2, \"female\":0.8},\n",
        "    \"apparel\": {\"male\":0.3, \"female\":0.7},\n",
        "    \"kids\": {\"male\":0.4, \"female\":0.6},\n",
        "    \"health\": {\"male\":0.45, \"female\":0.55}\n",
        "}\n"
      ]
    },
    {
      "cell_type": "code",
      "execution_count": null,
      "metadata": {
        "id": "F0Qa0fxv6WnO"
      },
      "outputs": [],
      "source": [
        "def infer_demo(category):\n",
        "    c = str(category).lower()\n",
        "    for key in category_age.keys():\n",
        "        if key in c:\n",
        "            return category_age[key], category_gender[key]\n",
        "    # default neutral distribution if not mapped\n",
        "    return {\"<25\":0.33,\"25-40\":0.34,\"40+\":0.33}, {\"male\":0.5,\"female\":0.5}\n",
        "\n",
        "# Quick check\n",
        "for cat in df['category'].head(5):\n",
        "    a, g = infer_demo(cat)\n",
        "    print(cat, \"=>\", a, g)\n"
      ]
    },
    {
      "cell_type": "code",
      "execution_count": null,
      "metadata": {
        "id": "qsyhLM-L6Z27"
      },
      "outputs": [],
      "source": [
        "user_preds = {}\n",
        "\n",
        "for uid, g in df.groupby(\"user_id\"):\n",
        "    age_score = {\"<25\":0,\"25-40\":0,\"40+\":0}\n",
        "    gen_score = {\"male\":0,\"female\":0}\n",
        "\n",
        "    for cat in g['category']:\n",
        "        a, gen = infer_demo(cat)\n",
        "        for k,v in a.items(): age_score[k]+=v\n",
        "        for k,v in gen.items(): gen_score[k]+=v\n",
        "\n",
        "    # Normalize\n",
        "    total_age = sum(age_score.values())\n",
        "    total_gen = sum(gen_score.values())\n",
        "    age_score = {k: round(v/total_age,2) for k,v in age_score.items()}\n",
        "    gen_score = {k: round(v/total_gen,2) for k,v in gen_score.items()}\n",
        "\n",
        "    user_preds[uid] = {\n",
        "        \"age_pred\": max(age_score,key=age_score.get),\n",
        "        \"gender_pred\": max(gen_score,key=gen_score.get),\n",
        "        \"age_prob\": age_score,\n",
        "        \"gender_prob\": gen_score\n",
        "    }\n",
        "\n",
        "preds_df = pd.DataFrame(user_preds).T\n",
        "preds_df.head()\n"
      ]
    },
    {
      "cell_type": "markdown",
      "metadata": {
        "id": "til7dbE16jIc"
      },
      "source": [
        "## Validation Checklist\n",
        "- Compare predictions with ground truth when available (holdout set).\n",
        "- Report Precision/Recall/F1 (gender) and macro-averaged metrics (age).\n",
        "- Plot reliability curves; compute ECE/Brier; calibrate if miscalibrated.\n",
        "- Perform time-split validation to assess stability and drift.\n",
        "- Quantify business lift vs. baseline targeting.\n"
      ]
    },
    {
      "cell_type": "markdown",
      "metadata": {
        "id": "wWuNwSct6kVR"
      },
      "source": [
        "## Strategic Insights\n",
        "- **Personalization**: Deploy audience cohorts with confidence thresholds to balance scale vs. precision.\n",
        "- **Growth**: Surface white-space opportunities by comparing inferred mix vs. market benchmarks.\n",
        "- **Experimentation**: A/B test targeting policies; feed outcomes back to update priors/calibration.\n",
        "- **Risk Management**: Monitor drift, confidence degradation, and fairness indicators; implement alerts.\n"
      ]
    },
    {
      "cell_type": "code",
      "execution_count": null,
      "metadata": {
        "id": "w6V2ZacC6os2"
      },
      "outputs": [],
      "source": []
    }
  ],
  "metadata": {
    "colab": {
      "provenance": []
    },
    "kernelspec": {
      "display_name": "base",
      "language": "python",
      "name": "python3"
    },
    "language_info": {
      "name": "python",
      "version": "3.12.4"
    }
  },
  "nbformat": 4,
  "nbformat_minor": 0
}
